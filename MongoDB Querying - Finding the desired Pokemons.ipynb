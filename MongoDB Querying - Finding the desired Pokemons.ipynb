{
 "cells": [
  {
   "cell_type": "markdown",
   "id": "8fe35e31",
   "metadata": {},
   "source": [
    "**Displaying the pokemons with candy count greater than or equal to 31**"
   ]
  },
  {
   "cell_type": "code",
   "execution_count": 5,
   "id": "b91d7b7d",
   "metadata": {},
   "outputs": [
    {
     "name": "stdout",
     "output_type": "stream",
     "text": [
      "{'name': 'Ivysaur'}\n",
      "{'name': 'Charmeleon'}\n",
      "{'name': 'Wartortle'}\n",
      "{'name': 'Metapod'}\n",
      "{'name': 'Kakuna'}\n",
      "{'name': 'Pidgeotto'}\n",
      "{'name': 'Spearow'}\n",
      "{'name': 'Ekans'}\n",
      "{'name': 'Pikachu'}\n",
      "{'name': 'Sandshrew'}\n",
      "{'name': 'Nidorina'}\n",
      "{'name': 'Nidorino'}\n",
      "{'name': 'Clefairy'}\n",
      "{'name': 'Vulpix'}\n",
      "{'name': 'Jigglypuff'}\n",
      "{'name': 'Zubat'}\n",
      "{'name': 'Gloom'}\n",
      "{'name': 'Paras'}\n",
      "{'name': 'Venonat'}\n",
      "{'name': 'Diglett'}\n",
      "{'name': 'Meowth'}\n",
      "{'name': 'Psyduck'}\n",
      "{'name': 'Mankey'}\n",
      "{'name': 'Growlithe'}\n",
      "{'name': 'Poliwhirl'}\n",
      "{'name': 'Kadabra'}\n",
      "{'name': 'Machoke'}\n",
      "{'name': 'Weepinbell'}\n",
      "{'name': 'Tentacool'}\n",
      "{'name': 'Graveler'}\n",
      "{'name': 'Ponyta'}\n",
      "{'name': 'Slowpoke'}\n",
      "{'name': 'Magnemite'}\n",
      "{'name': 'Doduo'}\n",
      "{'name': 'Seel'}\n",
      "{'name': 'Grimer'}\n",
      "{'name': 'Shellder'}\n",
      "{'name': 'Haunter'}\n",
      "{'name': 'Drowzee'}\n",
      "{'name': 'Krabby'}\n",
      "{'name': 'Voltorb'}\n",
      "{'name': 'Exeggcute'}\n",
      "{'name': 'Cubone'}\n",
      "{'name': 'Koffing'}\n",
      "{'name': 'Rhyhorn'}\n",
      "{'name': 'Horsea'}\n",
      "{'name': 'Goldeen'}\n",
      "{'name': 'Staryu'}\n",
      "{'name': 'Magikarp'}\n",
      "{'name': 'Omanyte'}\n",
      "{'name': 'Kabuto'}\n",
      "{'name': 'Dragonair'}\n"
     ]
    }
   ],
   "source": [
    "from pymongo import MongoClient\n",
    "\n",
    "client = MongoClient(\"mongodb://localhost:27017/?readPreference=primary&appname=MongoDB%20Compass&directConnection=true&ssl=false\")\n",
    "database = client[\"samples_pokemon\"]\n",
    "collection = database[\"samples_pokemon\"]\n",
    "\n",
    "query = {}\n",
    "\n",
    "# Finding the pokemons with candy count greater than or equal to 31\n",
    "query[\"candy_count\"] = {\n",
    "    u\"$gte\": 31.0\n",
    "}\n",
    "\n",
    "\n",
    "projection = {}\n",
    "\n",
    "# Displaying only the name \n",
    "projection[\"name\"] = 1.0\n",
    "projection[\"_id\"] = 0.0\n",
    "\n",
    "cursor = collection.find(query, projection = projection)\n",
    "try:\n",
    "    for doc in cursor:\n",
    "        print(doc)\n",
    "finally:\n",
    "    client.close()\n"
   ]
  },
  {
   "cell_type": "markdown",
   "id": "2456b324",
   "metadata": {},
   "source": [
    "**Displaying the ones with the number 021 and 010**"
   ]
  },
  {
   "cell_type": "code",
   "execution_count": 6,
   "id": "ffd794d5",
   "metadata": {},
   "outputs": [
    {
     "name": "stdout",
     "output_type": "stream",
     "text": [
      "{'name': 'Caterpie'}\n",
      "{'name': 'Spearow'}\n"
     ]
    }
   ],
   "source": [
    "\n",
    "from pymongo import MongoClient\n",
    "\n",
    "client = MongoClient(\"mongodb://localhost:27017/?readPreference=primary&appname=MongoDB%20Compass&directConnection=true&ssl=false\")\n",
    "database = client[\"samples_pokemon\"]\n",
    "collection = database[\"samples_pokemon\"]\n",
    "\n",
    "\n",
    "query = {}\n",
    "\n",
    "# Finding the ones with the num 021 and 010\n",
    "query[\"num\"] = {\n",
    "    u\"$in\": [\n",
    "        u\"021\",\n",
    "        u\"010\"\n",
    "    ]\n",
    "}\n",
    "\n",
    "\n",
    "projection = {}\n",
    "\n",
    "# Displaying only the name\n",
    "projection[\"name\"] = 1.0\n",
    "projection[\"_id\"] = 0.0\n",
    "\n",
    "cursor = collection.find(query, projection = projection)\n",
    "try:\n",
    "    for doc in cursor:\n",
    "        print(doc)\n",
    "finally:\n",
    "    client.close()\n"
   ]
  }
 ],
 "metadata": {
  "kernelspec": {
   "display_name": "Python 3",
   "language": "python",
   "name": "python3"
  },
  "language_info": {
   "codemirror_mode": {
    "name": "ipython",
    "version": 3
   },
   "file_extension": ".py",
   "mimetype": "text/x-python",
   "name": "python",
   "nbconvert_exporter": "python",
   "pygments_lexer": "ipython3",
   "version": "3.8.8"
  }
 },
 "nbformat": 4,
 "nbformat_minor": 5
}
